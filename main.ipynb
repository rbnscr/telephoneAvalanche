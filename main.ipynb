{
 "cells": [
  {
   "cell_type": "code",
   "execution_count": 4,
   "metadata": {},
   "outputs": [
    {
     "name": "stdout",
     "output_type": "stream",
     "text": [
      "All nodes were reached within 8 round(s) of calling.\n",
      "[   1    6   21   73  237  627  958  999 1000]\n"
     ]
    }
   ],
   "source": [
    "from telephoneAvalancheClass import *\n",
    "nodes = 1000\n",
    "edgePerNode = 2\n",
    "maxIterations = 20\n",
    "nCallsPerRound = 10\n",
    "startNode = [0]\n",
    "ta = TelephoneAvalanche(nodes, edgePerNode, maxIterations, nCallsPerRound, startNode)\n",
    "\n",
    "ta.reached_over_time()\n",
    "print(ta.reachedOverTime)"
   ]
  },
  {
   "cell_type": "code",
   "execution_count": null,
   "metadata": {},
   "outputs": [],
   "source": []
  }
 ],
 "metadata": {
  "kernelspec": {
   "display_name": "Python 3.10.6 ('.venv': venv)",
   "language": "python",
   "name": "python3"
  },
  "language_info": {
   "codemirror_mode": {
    "name": "ipython",
    "version": 3
   },
   "file_extension": ".py",
   "mimetype": "text/x-python",
   "name": "python",
   "nbconvert_exporter": "python",
   "pygments_lexer": "ipython3",
   "version": "3.10.6"
  },
  "orig_nbformat": 4,
  "vscode": {
   "interpreter": {
    "hash": "0401258828cba3356d426a84afbe276b6c9f64eb8cf50bc9dd48c5fa1753cd14"
   }
  }
 },
 "nbformat": 4,
 "nbformat_minor": 2
}
